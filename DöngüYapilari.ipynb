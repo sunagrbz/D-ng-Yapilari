{
  "nbformat": 4,
  "nbformat_minor": 0,
  "metadata": {
    "colab": {
      "provenance": []
    },
    "kernelspec": {
      "name": "python3",
      "display_name": "Python 3"
    },
    "language_info": {
      "name": "python"
    }
  },
  "cells": [
    {
      "cell_type": "markdown",
      "source": [
        "Döngüler, belirli bir kod bölümünün birden fazla çalıştırmamıza olanak tanır. Döngüler, genellikle yazılımda tekrar eden işlemler için kullanılır.\n",
        "\n",
        "Döngü Türleri:\n",
        "\n",
        "for Döngüsü--> Belirli bir sıralama üzerinde iterasyon yapmak için kullanılır. Genellikle bir liste, dizi veya range fonksiyonu ile kullanılır.\n",
        "\n",
        "while Döngüsü--> Belirli bir koşul doğru olduğu sürece kod bloğunu çalıştırır.\n",
        "\n",
        "Döngü Kontrol Yapıları:\n",
        "\n",
        "break--> Döngüyü tamamen sonlandırır.\n",
        "continue--> Döngünün o anki tekrarı-iterasyonunu sonlandırır ve bir sonraki tekrara-iterasyona geçer.\n",
        "\n",
        "\n",
        "Döngü İçinde Döngü (İç İçe Döngüler):\n",
        "\n",
        "İç İçe for Döngüsü\n",
        "İç İçe while Döngüsü"
      ],
      "metadata": {
        "id": "GdKvsn6U9AdX"
      }
    },
    {
      "cell_type": "code",
      "source": [
        "#For döngüsü-- 0'dan 10'a kadar döndürülmesi işlemidir.\n",
        "for i in range(10):\n",
        "\n",
        "    print(i)"
      ],
      "metadata": {
        "colab": {
          "base_uri": "https://localhost:8080/"
        },
        "id": "qZ2U7IU59NcC",
        "outputId": "24ac5b66-b622-43f2-becb-3840df146aba"
      },
      "execution_count": 2,
      "outputs": [
        {
          "output_type": "stream",
          "name": "stdout",
          "text": [
            "0\n",
            "1\n",
            "2\n",
            "3\n",
            "4\n",
            "5\n",
            "6\n",
            "7\n",
            "8\n",
            "9\n"
          ]
        }
      ]
    },
    {
      "cell_type": "code",
      "source": [
        "#Alınıcaklar Listesi\n",
        "Alınıcaklar = [\"Süt\",\"Peynir\",\"Yumurta\",\"Un\"]\n",
        "for MalzemeListesi in Alınıcaklar:\n",
        "    print(MalzemeListesi)"
      ],
      "metadata": {
        "colab": {
          "base_uri": "https://localhost:8080/"
        },
        "id": "myhAHE1F_IEY",
        "outputId": "3eeebcbb-064c-49a1-c5f9-7b81d16402c9"
      },
      "execution_count": 6,
      "outputs": [
        {
          "output_type": "stream",
          "name": "stdout",
          "text": [
            "Süt\n",
            "Peynir\n",
            "Yumurta\n",
            "Un\n"
          ]
        }
      ]
    },
    {
      "cell_type": "code",
      "source": [
        "#Bir sınıftaki not ortalamasını hesaplama\n",
        "notlar=[80,100,100,50,100]\n",
        "toplam =0\n",
        "\n",
        "for sayı in notlar:\n",
        "  toplam =toplam+sayı\n",
        "ortalama =toplam/5\n",
        "print(\"Ortalama:\",ortalama)\n",
        "\n"
      ],
      "metadata": {
        "colab": {
          "base_uri": "https://localhost:8080/"
        },
        "id": "qrqJm0z3_IH6",
        "outputId": "360ff52f-e9a6-4861-9125-e3ab92d8f338"
      },
      "execution_count": 14,
      "outputs": [
        {
          "output_type": "stream",
          "name": "stdout",
          "text": [
            "Ortalama: 86.0\n"
          ]
        }
      ]
    },
    {
      "cell_type": "code",
      "source": [
        "#Kullanıcıdan sayı alınır.\n",
        "Kullanıcı=input(\"Bir sayı giriniz:\")\n",
        "\n",
        "#Kullanıcının girdiği sayıya kadar sıralama yapma\n",
        "i=0\n",
        "while i<=int(Kullanıcı):\n",
        "  i=i+1\n",
        "  print(i)\n",
        ""
      ],
      "metadata": {
        "colab": {
          "base_uri": "https://localhost:8080/"
        },
        "id": "4bHk8Dzg_IPo",
        "outputId": "a34d404a-478b-42b8-98ce-01a1f1814a37"
      },
      "execution_count": 23,
      "outputs": [
        {
          "output_type": "stream",
          "name": "stdout",
          "text": [
            "Bir sayı giriniz:5\n",
            "1\n",
            "2\n",
            "3\n",
            "4\n",
            "5\n",
            "6\n"
          ]
        }
      ]
    },
    {
      "cell_type": "code",
      "source": [
        "#Break ile 3 e ulaştıgında döngü sonlandıran program\n",
        "\n",
        "for i in range(10):\n",
        "  if i==3:\n",
        "    break\n",
        "  print(i)"
      ],
      "metadata": {
        "colab": {
          "base_uri": "https://localhost:8080/"
        },
        "id": "x_I0Emqk_ITL",
        "outputId": "475086f1-3d4c-430c-decd-166906b38328"
      },
      "execution_count": 29,
      "outputs": [
        {
          "output_type": "stream",
          "name": "stdout",
          "text": [
            "0\n",
            "1\n",
            "2\n"
          ]
        }
      ]
    },
    {
      "cell_type": "code",
      "source": [
        "#Continue örnegi --5 e ulaştıgında o sayıyı es geçer\n",
        "\n",
        "for i in range(10):\n",
        "  if i==5:\n",
        "    continue\n",
        "  print(i)"
      ],
      "metadata": {
        "colab": {
          "base_uri": "https://localhost:8080/"
        },
        "id": "zwEmO5Q8_IWa",
        "outputId": "7265dc5b-94f8-4dc6-9f77-582d24db7da6"
      },
      "execution_count": 31,
      "outputs": [
        {
          "output_type": "stream",
          "name": "stdout",
          "text": [
            "0\n",
            "1\n",
            "2\n",
            "3\n",
            "4\n",
            "6\n",
            "7\n",
            "8\n",
            "9\n"
          ]
        }
      ]
    },
    {
      "cell_type": "code",
      "source": [
        "# iç içe for döngüsü örneği: 2 boyutlu bir matrisin elemanları üzerinde işlemler\n",
        "\n",
        "#Matris tanımlama\n",
        "matris = [\n",
        "    [1, 2, 3],\n",
        "    [4, 5, 6],\n",
        "    [7, 8, 9]\n",
        "]\n",
        "\n",
        "for x in matris:\n",
        "  for y in x:\n",
        "    print(y)\n",
        ""
      ],
      "metadata": {
        "colab": {
          "base_uri": "https://localhost:8080/"
        },
        "id": "i6ujrLXM9Nkr",
        "outputId": "c104ee3f-f701-42fc-b415-015733138d33"
      },
      "execution_count": 32,
      "outputs": [
        {
          "output_type": "stream",
          "name": "stdout",
          "text": [
            "1\n",
            "2\n",
            "3\n",
            "4\n",
            "5\n",
            "6\n",
            "7\n",
            "8\n",
            "9\n"
          ]
        }
      ]
    },
    {
      "cell_type": "code",
      "source": [
        "#Kulllanıcıdan Bilgi Alınması\n",
        "\n",
        "while True:\n",
        "  try:\n",
        "    bilgi = int(input(\"bir değer giriniz\"))\n",
        "    break\n",
        "  except ValueError:\n",
        "    print(\"Geçersiz giriş. Tekrar deneyin.\")\n",
        "\n",
        "  #Sıfırdan kullanıcının girdiği sayıya kadar yazdırma\n",
        "for i in range(bilgi):\n",
        "  print(i)"
      ],
      "metadata": {
        "colab": {
          "base_uri": "https://localhost:8080/"
        },
        "id": "2UUTHvWX9Nnp",
        "outputId": "e35a4358-e711-46a3-9f81-73751cc149d7"
      },
      "execution_count": 34,
      "outputs": [
        {
          "output_type": "stream",
          "name": "stdout",
          "text": [
            "bir değer giriniz5\n",
            "0\n",
            "1\n",
            "2\n",
            "3\n",
            "4\n"
          ]
        }
      ]
    },
    {
      "cell_type": "code",
      "source": [
        "#Kullanıcı Bakiye Kontrol Sistemi\n",
        "ToplamÜcret = 1500\n",
        "while ToplamÜcret>0:\n",
        "  try:\n",
        "    CekilenTutar = int(input(\"Çekmek istediğiniz miktarı giriniz:\"))\n",
        "    if CekilenTutar>ToplamÜcret :\n",
        "        print(\"Yetersiz Bakiye \")\n",
        "        Bilgi =(\"İşleme devam etmek istiyor musunuz (e/h)\").lower()\n",
        "      if Bilgi==\"h\":\n",
        "        print(\"İşleminiz iptal edilmiştir.\")\n",
        "        break\n",
        "    else:\n",
        "      ToplamÜcret=ToplamÜcret-CekilenTutar\n",
        "      print(\"Kalan Bakiyeniz:\",ToplamÜcret)\n",
        "  except ValueError:\n",
        "\n",
        "    print(\"Geçersiz giriş. Tekrar deneyin.\")\n",
        "\n",
        "\n"
      ],
      "metadata": {
        "colab": {
          "base_uri": "https://localhost:8080/"
        },
        "id": "KZ8Zz9lsVSfT",
        "outputId": "913d404b-05ed-4724-d0e8-e0a6e9c6d968"
      },
      "execution_count": null,
      "outputs": [
        {
          "output_type": "stream",
          "name": "stdout",
          "text": [
            "Çekmek istediğiniz miktarı giriniz:600\n",
            "Kalan Bakiyeniz: 900\n",
            "Çekmek istediğiniz miktarı giriniz:5657\n",
            "Yetersiz Bakiye \n",
            "Çekmek istediğiniz miktarı giriniz:1509\n",
            "Yetersiz Bakiye \n",
            "Çekmek istediğiniz miktarı giriniz:98797\n",
            "Yetersiz Bakiye \n",
            "Çekmek istediğiniz miktarı giriniz:e\n",
            "Geçersiz giriş. Tekrar deneyin.\n",
            "Çekmek istediğiniz miktarı giriniz:h\n",
            "Geçersiz giriş. Tekrar deneyin.\n"
          ]
        }
      ]
    },
    {
      "cell_type": "code",
      "source": [],
      "metadata": {
        "id": "6Nn8qoeUVSpc"
      },
      "execution_count": null,
      "outputs": []
    }
  ]
}